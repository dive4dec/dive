{
 "cells": [
  {
   "cell_type": "code",
   "execution_count": 19,
   "id": "fad90317-49c7-48ea-bdbf-d79f0af9ed2a",
   "metadata": {},
   "outputs": [],
   "source": [
    "from IPython.display import Code, IFrame, display\n",
    "from pathlib import Path"
   ]
  },
  {
   "cell_type": "markdown",
   "id": "da54b5ee-18c4-4c2d-b4ec-e9fbc26cc01d",
   "metadata": {},
   "source": [
    "Click the latex source code [latex.tex](latex.tex) to edit it if needed."
   ]
  },
  {
   "cell_type": "code",
   "execution_count": 22,
   "id": "58b604f5-e9a4-4eb3-90e4-b28595daf55b",
   "metadata": {},
   "outputs": [
    {
     "data": {
      "text/html": [
       "<style>pre { line-height: 125%; }\n",
       "td.linenos .normal { color: inherit; background-color: transparent; padding-left: 5px; padding-right: 5px; }\n",
       "span.linenos { color: inherit; background-color: transparent; padding-left: 5px; padding-right: 5px; }\n",
       "td.linenos .special { color: #000000; background-color: #ffffc0; padding-left: 5px; padding-right: 5px; }\n",
       "span.linenos.special { color: #000000; background-color: #ffffc0; padding-left: 5px; padding-right: 5px; }\n",
       ".output_html .hll { background-color: #ffffcc }\n",
       ".output_html { background: #f8f8f8; }\n",
       ".output_html .c { color: #3D7B7B; font-style: italic } /* Comment */\n",
       ".output_html .err { border: 1px solid #FF0000 } /* Error */\n",
       ".output_html .k { color: #008000; font-weight: bold } /* Keyword */\n",
       ".output_html .o { color: #666666 } /* Operator */\n",
       ".output_html .ch { color: #3D7B7B; font-style: italic } /* Comment.Hashbang */\n",
       ".output_html .cm { color: #3D7B7B; font-style: italic } /* Comment.Multiline */\n",
       ".output_html .cp { color: #9C6500 } /* Comment.Preproc */\n",
       ".output_html .cpf { color: #3D7B7B; font-style: italic } /* Comment.PreprocFile */\n",
       ".output_html .c1 { color: #3D7B7B; font-style: italic } /* Comment.Single */\n",
       ".output_html .cs { color: #3D7B7B; font-style: italic } /* Comment.Special */\n",
       ".output_html .gd { color: #A00000 } /* Generic.Deleted */\n",
       ".output_html .ge { font-style: italic } /* Generic.Emph */\n",
       ".output_html .gr { color: #E40000 } /* Generic.Error */\n",
       ".output_html .gh { color: #000080; font-weight: bold } /* Generic.Heading */\n",
       ".output_html .gi { color: #008400 } /* Generic.Inserted */\n",
       ".output_html .go { color: #717171 } /* Generic.Output */\n",
       ".output_html .gp { color: #000080; font-weight: bold } /* Generic.Prompt */\n",
       ".output_html .gs { font-weight: bold } /* Generic.Strong */\n",
       ".output_html .gu { color: #800080; font-weight: bold } /* Generic.Subheading */\n",
       ".output_html .gt { color: #0044DD } /* Generic.Traceback */\n",
       ".output_html .kc { color: #008000; font-weight: bold } /* Keyword.Constant */\n",
       ".output_html .kd { color: #008000; font-weight: bold } /* Keyword.Declaration */\n",
       ".output_html .kn { color: #008000; font-weight: bold } /* Keyword.Namespace */\n",
       ".output_html .kp { color: #008000 } /* Keyword.Pseudo */\n",
       ".output_html .kr { color: #008000; font-weight: bold } /* Keyword.Reserved */\n",
       ".output_html .kt { color: #B00040 } /* Keyword.Type */\n",
       ".output_html .m { color: #666666 } /* Literal.Number */\n",
       ".output_html .s { color: #BA2121 } /* Literal.String */\n",
       ".output_html .na { color: #687822 } /* Name.Attribute */\n",
       ".output_html .nb { color: #008000 } /* Name.Builtin */\n",
       ".output_html .nc { color: #0000FF; font-weight: bold } /* Name.Class */\n",
       ".output_html .no { color: #880000 } /* Name.Constant */\n",
       ".output_html .nd { color: #AA22FF } /* Name.Decorator */\n",
       ".output_html .ni { color: #717171; font-weight: bold } /* Name.Entity */\n",
       ".output_html .ne { color: #CB3F38; font-weight: bold } /* Name.Exception */\n",
       ".output_html .nf { color: #0000FF } /* Name.Function */\n",
       ".output_html .nl { color: #767600 } /* Name.Label */\n",
       ".output_html .nn { color: #0000FF; font-weight: bold } /* Name.Namespace */\n",
       ".output_html .nt { color: #008000; font-weight: bold } /* Name.Tag */\n",
       ".output_html .nv { color: #19177C } /* Name.Variable */\n",
       ".output_html .ow { color: #AA22FF; font-weight: bold } /* Operator.Word */\n",
       ".output_html .w { color: #bbbbbb } /* Text.Whitespace */\n",
       ".output_html .mb { color: #666666 } /* Literal.Number.Bin */\n",
       ".output_html .mf { color: #666666 } /* Literal.Number.Float */\n",
       ".output_html .mh { color: #666666 } /* Literal.Number.Hex */\n",
       ".output_html .mi { color: #666666 } /* Literal.Number.Integer */\n",
       ".output_html .mo { color: #666666 } /* Literal.Number.Oct */\n",
       ".output_html .sa { color: #BA2121 } /* Literal.String.Affix */\n",
       ".output_html .sb { color: #BA2121 } /* Literal.String.Backtick */\n",
       ".output_html .sc { color: #BA2121 } /* Literal.String.Char */\n",
       ".output_html .dl { color: #BA2121 } /* Literal.String.Delimiter */\n",
       ".output_html .sd { color: #BA2121; font-style: italic } /* Literal.String.Doc */\n",
       ".output_html .s2 { color: #BA2121 } /* Literal.String.Double */\n",
       ".output_html .se { color: #AA5D1F; font-weight: bold } /* Literal.String.Escape */\n",
       ".output_html .sh { color: #BA2121 } /* Literal.String.Heredoc */\n",
       ".output_html .si { color: #A45A77; font-weight: bold } /* Literal.String.Interpol */\n",
       ".output_html .sx { color: #008000 } /* Literal.String.Other */\n",
       ".output_html .sr { color: #A45A77 } /* Literal.String.Regex */\n",
       ".output_html .s1 { color: #BA2121 } /* Literal.String.Single */\n",
       ".output_html .ss { color: #19177C } /* Literal.String.Symbol */\n",
       ".output_html .bp { color: #008000 } /* Name.Builtin.Pseudo */\n",
       ".output_html .fm { color: #0000FF } /* Name.Function.Magic */\n",
       ".output_html .vc { color: #19177C } /* Name.Variable.Class */\n",
       ".output_html .vg { color: #19177C } /* Name.Variable.Global */\n",
       ".output_html .vi { color: #19177C } /* Name.Variable.Instance */\n",
       ".output_html .vm { color: #19177C } /* Name.Variable.Magic */\n",
       ".output_html .il { color: #666666 } /* Literal.Number.Integer.Long */</style><div class=\"highlight\"><pre><span></span><span class=\"c\">% To compile this latex source to a pdf file,</span>\n",
       "<span class=\"c\">% 1) open a terminal in the jupyter environment, and</span>\n",
       "<span class=\"c\">% 2) run the following shell command under the folder containing </span>\n",
       "<span class=\"c\">%    the latex source file:</span>\n",
       "<span class=\"c\">%      techtonic latex</span>\n",
       "<span class=\"c\">% The pdf file will be generated in the same folder.</span>\n",
       "<span class=\"k\">\\documentclass</span><span class=\"nb\">{</span>article<span class=\"nb\">}</span>\n",
       "<span class=\"k\">\\title</span><span class=\"nb\">{</span>Hello<span class=\"nb\">}</span>\n",
       "<span class=\"k\">\\begin</span><span class=\"nb\">{</span>document<span class=\"nb\">}</span>\n",
       "<span class=\"k\">\\maketitle</span>\n",
       "World!\n",
       "<span class=\"k\">\\end</span><span class=\"nb\">{</span>document<span class=\"nb\">}</span>\n",
       "</pre></div>\n"
      ],
      "text/latex": [
       "\\begin{Verbatim}[commandchars=\\\\\\{\\}]\n",
       "\\PY{c}{\\PYZpc{} To compile this latex source to a pdf file,}\n",
       "\\PY{c}{\\PYZpc{} 1) open a terminal in the jupyter environment, and}\n",
       "\\PY{c}{\\PYZpc{} 2) run the following shell command under the folder containing }\n",
       "\\PY{c}{\\PYZpc{}    the latex source file:}\n",
       "\\PY{c}{\\PYZpc{}      techtonic latex}\n",
       "\\PY{c}{\\PYZpc{} The pdf file will be generated in the same folder.}\n",
       "\\PY{k}{\\PYZbs{}documentclass}\\PY{n+nb}{\\PYZob{}}article\\PY{n+nb}{\\PYZcb{}}\n",
       "\\PY{k}{\\PYZbs{}title}\\PY{n+nb}{\\PYZob{}}Hello\\PY{n+nb}{\\PYZcb{}}\n",
       "\\PY{k}{\\PYZbs{}begin}\\PY{n+nb}{\\PYZob{}}document\\PY{n+nb}{\\PYZcb{}}\n",
       "\\PY{k}{\\PYZbs{}maketitle}\n",
       "World!\n",
       "\\PY{k}{\\PYZbs{}end}\\PY{n+nb}{\\PYZob{}}document\\PY{n+nb}{\\PYZcb{}}\n",
       "\\end{Verbatim}\n"
      ],
      "text/plain": [
       "% To compile this latex source to a pdf file,\n",
       "% 1) open a terminal in the jupyter environment, and\n",
       "% 2) run the following shell command under the folder containing \n",
       "%    the latex source file:\n",
       "%      techtonic latex\n",
       "% The pdf file will be generated in the same folder.\n",
       "\\documentclass{article}\n",
       "\\title{Hello}\n",
       "\\begin{document}\n",
       "\\maketitle\n",
       "World!\n",
       "\\end{document}"
      ]
     },
     "metadata": {},
     "output_type": "display_data"
    }
   ],
   "source": [
    "if Path(\"latex.tex\"):\n",
    "    display(Code('latex.tex'))\n",
    "else:\n",
    "    print('Create a latex.tex first.')"
   ]
  },
  {
   "cell_type": "markdown",
   "id": "0426b702-2527-42c6-af50-de2d1b03a364",
   "metadata": {},
   "source": [
    "Compile the source to a pdf file:"
   ]
  },
  {
   "cell_type": "code",
   "execution_count": 9,
   "id": "fec9b2ec-193b-4100-a9c4-98683d02e080",
   "metadata": {
    "scrolled": true,
    "tags": []
   },
   "outputs": [
    {
     "name": "stdin",
     "output_type": "stream",
     "text": [
      "compile? [Y/n] \n"
     ]
    },
    {
     "name": "stdout",
     "output_type": "stream",
     "text": [
      "Running \u001b[0m\u001b[1mTeX\u001b[0m ...\n",
      "\u001b[0m\u001b[1m\u001b[32mnote:\u001b[0m downloading SHA256SUM\n",
      "\u001b[0m\u001b[1m\u001b[32mnote:\u001b[0m downloading article.cls\n",
      "\u001b[0m\u001b[1m\u001b[32mnote:\u001b[0m downloading size10.clo\n",
      "\u001b[0m\u001b[1m\u001b[32mnote:\u001b[0m downloading lmroman10-regular.otf\n",
      "\u001b[0m\u001b[1m\u001b[32mnote:\u001b[0m downloading tex-text.tec\n",
      "\u001b[0m\u001b[1m\u001b[32mnote:\u001b[0m downloading l3backend-xetex.def\n",
      "\u001b[0m\u001b[1m\u001b[32mnote:\u001b[0m downloading ts1cmr.fd\n",
      "\u001b[0m\u001b[1m\u001b[32mnote:\u001b[0m downloading lmroman17-regular.otf\n",
      "\u001b[0m\u001b[1m\u001b[32mnote:\u001b[0m downloading lmroman12-regular.otf\n",
      "\u001b[0m\u001b[1m\u001b[32mnote:\u001b[0m downloading cmr12.tfm\n",
      "\u001b[0m\u001b[1m\u001b[32mnote:\u001b[0m downloading cmr8.tfm\n",
      "\u001b[0m\u001b[1m\u001b[32mnote:\u001b[0m downloading cmr6.tfm\n",
      "\u001b[0m\u001b[1m\u001b[32mnote:\u001b[0m downloading cmmi12.tfm\n",
      "\u001b[0m\u001b[1m\u001b[32mnote:\u001b[0m downloading cmmi8.tfm\n",
      "\u001b[0m\u001b[1m\u001b[32mnote:\u001b[0m downloading cmmi6.tfm\n",
      "\u001b[0m\u001b[1m\u001b[32mnote:\u001b[0m downloading cmsy8.tfm\n",
      "\u001b[0m\u001b[1m\u001b[32mnote:\u001b[0m downloading cmsy6.tfm\n",
      "Rerunning \u001b[0m\u001b[1mTeX\u001b[0m because \"latex.aux\" changed ...\n",
      "Running \u001b[0m\u001b[1mxdvipdfmx\u001b[0m ...\n",
      "\u001b[0m\u001b[1m\u001b[32mnote:\u001b[0m downloading pdftex.map\n",
      "\u001b[0m\u001b[1m\u001b[32mnote:\u001b[0m downloading kanjix.map\n",
      "\u001b[0m\u001b[1m\u001b[32mnote:\u001b[0m downloading ckx.map\n",
      "\u001b[0m\u001b[1m\u001b[32mnote:\u001b[0m downloading texglyphlist.txt\n",
      "\u001b[0m\u001b[1m\u001b[32mnote:\u001b[0m downloading pdfglyphlist.txt\n",
      "\u001b[0m\u001b[1m\u001b[32mnote:\u001b[0m downloading glyphlist.txt\n",
      "Writing \u001b[0m\u001b[1m`latex.pdf`\u001b[0m (6.46 KiB)\n",
      "Skipped writing \u001b[0m\u001b[1m1\u001b[0m intermediate files (use --keep-intermediates to keep them)\n"
     ]
    }
   ],
   "source": [
    "if input('compile? [y/N]').lower() == 'y':\n",
    "    !tectonic latex.tex\n",
    "else:\n",
    "    print('Say \"Y\" if you want to compile.')"
   ]
  },
  {
   "cell_type": "code",
   "execution_count": 21,
   "id": "50b5526c-ceac-4bf5-adcf-1c4775597dc4",
   "metadata": {},
   "outputs": [
    {
     "data": {
      "text/html": [
       "\n",
       "        <iframe\n",
       "            width=\"800\"\n",
       "            height=\"800\"\n",
       "            src=\"latex.pdf\"\n",
       "            frameborder=\"0\"\n",
       "            allowfullscreen\n",
       "            \n",
       "        ></iframe>\n",
       "        "
      ],
      "text/plain": [
       "<IPython.lib.display.IFrame at 0x7fd4b7975390>"
      ]
     },
     "metadata": {},
     "output_type": "display_data"
    }
   ],
   "source": [
    "if Path(\"latex.pdf\"):\n",
    "    display(IFrame('latex.pdf', width=800, height=800))\n",
    "else:\n",
    "    print('You need to compile the latex file first.')"
   ]
  }
 ],
 "metadata": {
  "kernelspec": {
   "display_name": "Python 3 (ipykernel)",
   "language": "python",
   "name": "python3"
  },
  "language_info": {
   "codemirror_mode": {
    "name": "ipython",
    "version": 3
   },
   "file_extension": ".py",
   "mimetype": "text/x-python",
   "name": "python",
   "nbconvert_exporter": "python",
   "pygments_lexer": "ipython3",
   "version": "3.10.5"
  }
 },
 "nbformat": 4,
 "nbformat_minor": 5
}

{
 "cells": [
  {
   "cell_type": "code",
   "execution_count": 1,
   "id": "a4aee33b-18aa-4b31-9242-edb7dfcd01ab",
   "metadata": {},
   "outputs": [],
   "source": [
    "%LOAD sqlite3 db=hello.db"
   ]
  },
  {
   "cell_type": "code",
   "execution_count": 11,
   "id": "f3a2679e-2b3f-4864-a11b-cee3db312154",
   "metadata": {},
   "outputs": [],
   "source": [
    "DROP TABLE helloworld;"
   ]
  },
  {
   "cell_type": "code",
   "execution_count": 12,
   "id": "fa49eb65-e47c-444b-a178-6e9ef553f758",
   "metadata": {},
   "outputs": [],
   "source": [
    "CREATE TABLE helloworld (phrase TEXT);"
   ]
  },
  {
   "cell_type": "code",
   "execution_count": 13,
   "id": "90714a52-7bfc-478f-b383-ac59721e3015",
   "metadata": {},
   "outputs": [],
   "source": [
    "INSERT INTO helloworld VALUES (\"Hello, World!\");"
   ]
  },
  {
   "cell_type": "code",
   "execution_count": 15,
   "id": "66b1eea0-414c-4257-bc98-b9f94b4b814c",
   "metadata": {},
   "outputs": [],
   "source": [
    "INSERT INTO helloworld VALUES (\"Goodbye, World!\");"
   ]
  },
  {
   "cell_type": "code",
   "execution_count": 16,
   "id": "6e3ebbbb-1be9-4927-a52b-5225d71c7cf5",
   "metadata": {},
   "outputs": [
    {
     "data": {
      "text/html": [
       "<table>\n",
       "<tr>\n",
       "<th>phrase</th>\n",
       "</tr>\n",
       "<tr>\n",
       "<td>Hello, World!</td>\n",
       "</tr>\n",
       "</table>\n",
       "1 row in set (0.00 sec)"
      ],
      "text/plain": [
       "+---------------+\n",
       "| phrase        |\n",
       "+---------------+\n",
       "| Hello, World! |\n",
       "+---------------+\n",
       "1 row in set (0.00 sec)"
      ]
     },
     "execution_count": 16,
     "metadata": {},
     "output_type": "execute_result"
    }
   ],
   "source": [
    "SELECT * FROM helloworld WHERE phrase LIKE 'H%';"
   ]
  }
 ],
 "metadata": {
  "kernelspec": {
   "display_name": "xsql",
   "language": "sqlite",
   "name": "xsql"
  },
  "language_info": {
   "codemirror_mode": "sql",
   "file_extension": "",
   "mimetype": "",
   "name": "mysql",
   "version": "0.1.5"
  }
 },
 "nbformat": 4,
 "nbformat_minor": 5
}

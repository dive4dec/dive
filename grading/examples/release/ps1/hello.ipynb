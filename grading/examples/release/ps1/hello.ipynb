{
 "cells": [
  {
   "cell_type": "markdown",
   "id": "fc41a33a-6a49-4012-ad3f-48aba3b4d70e",
   "metadata": {},
   "source": [
    "**Exercise**\n",
    "\n",
    "Complete the following code to print the string `\"hello\"`."
   ]
  },
  {
   "cell_type": "code",
   "execution_count": null,
   "id": "453f12be-05b1-4796-a26e-0a1242afefd2",
   "metadata": {
    "deletable": false,
    "nbgrader": {
     "cell_type": "code",
     "checksum": "84b2d9bcb753f6c0a06e0ccf177aaa34",
     "grade": false,
     "grade_id": "hello",
     "locked": false,
     "schema_version": 3,
     "solution": true,
     "task": false
    },
    "tags": []
   },
   "outputs": [],
   "source": [
    "def hello():\n",
    "    # BEGIN your python code\n",
    "    raise NotImplementedError()  # REPLACE\n",
    "    # END your code"
   ]
  },
  {
   "cell_type": "code",
   "execution_count": null,
   "id": "17fa3ec2-3cb6-4b1e-b473-01b0b3f8d242",
   "metadata": {
    "deletable": false,
    "editable": false,
    "nbgrader": {
     "cell_type": "code",
     "checksum": "b28ca7e1c75e2f3c9162556c3c2a7034",
     "grade": true,
     "grade_id": "test-hello",
     "locked": true,
     "points": 1,
     "schema_version": 3,
     "solution": false,
     "task": false
    },
    "tags": []
   },
   "outputs": [],
   "source": [
    "# tests\n",
    "assert isinstance(hello(), str)"
   ]
  },
  {
   "cell_type": "code",
   "execution_count": null,
   "id": "d3e90b83-c534-4723-8341-1e9a781d4249",
   "metadata": {
    "deletable": false,
    "editable": false,
    "nbgrader": {
     "cell_type": "code",
     "checksum": "e2be74b163fdaedc454f61a546410468",
     "grade": true,
     "grade_id": "htest-hello",
     "locked": true,
     "points": 1,
     "schema_version": 3,
     "solution": false,
     "task": false
    },
    "tags": []
   },
   "outputs": [],
   "source": [
    "# hidden tests"
   ]
  },
  {
   "cell_type": "markdown",
   "id": "e8112d8d-eacd-45db-8972-55dc06b3d2e7",
   "metadata": {},
   "source": [
    "**Exercise**\n",
    "\n",
    "What character does `\"\\n\"` represents in python?"
   ]
  },
  {
   "cell_type": "markdown",
   "id": "4f5a34a7-e2ee-47da-a94a-8e1d159db044",
   "metadata": {
    "deletable": false,
    "nbgrader": {
     "cell_type": "markdown",
     "checksum": "c498d9fcc0cc139396db77c376729c3a",
     "grade": true,
     "grade_id": "character",
     "locked": false,
     "points": 1,
     "schema_version": 3,
     "solution": true,
     "task": false
    },
    "tags": []
   },
   "source": [
    "YOUR ANSWER HERE"
   ]
  }
 ],
 "metadata": {
  "kernelspec": {
   "display_name": "Python 3 (ipykernel)",
   "language": "python",
   "name": "python3"
  },
  "language_info": {
   "codemirror_mode": {
    "name": "ipython",
    "version": 3
   },
   "file_extension": ".py",
   "mimetype": "text/x-python",
   "name": "python",
   "nbconvert_exporter": "python",
   "pygments_lexer": "ipython3",
   "version": "3.10.5"
  }
 },
 "nbformat": 4,
 "nbformat_minor": 5
}

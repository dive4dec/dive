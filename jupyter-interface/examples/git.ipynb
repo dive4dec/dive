{
 "cells": [
  {
   "cell_type": "code",
   "execution_count": 3,
   "id": "aeb8798c-b289-43c2-ad22-1127407ce9bb",
   "metadata": {},
   "outputs": [
    {
     "name": "stdout",
     "output_type": "stream",
     "text": [
      "\u001b[33mhint: Using 'master' as the name for the initial branch. This default branch name\u001b[m\n",
      "\u001b[33mhint: is subject to change. To configure the initial branch name to use in all\u001b[m\n",
      "\u001b[33mhint: of your new repositories, which will suppress this warning, call:\u001b[m\n",
      "\u001b[33mhint: \u001b[m\n",
      "\u001b[33mhint: \tgit config --global init.defaultBranch <name>\u001b[m\n",
      "\u001b[33mhint: \u001b[m\n",
      "\u001b[33mhint: Names commonly chosen instead of 'master' are 'main', 'trunk' and\u001b[m\n",
      "\u001b[33mhint: 'development'. The just-created branch can be renamed via this command:\u001b[m\n",
      "\u001b[33mhint: \u001b[m\n",
      "\u001b[33mhint: \tgit branch -m <name>\u001b[m\n",
      "Initialized empty Git repository in /home/jovyan/work/.git/\n"
     ]
    }
   ],
   "source": [
    "!git init"
   ]
  },
  {
   "cell_type": "code",
   "execution_count": 6,
   "id": "cb124c76-ac18-4279-8c81-b6e89ad02abe",
   "metadata": {},
   "outputs": [
    {
     "name": "stdout",
     "output_type": "stream",
     "text": [
      "On branch master\n",
      "\n",
      "No commits yet\n",
      "\n",
      "Untracked files:\n",
      "  (use \"git add <file>...\" to include in what will be committed)\n",
      "\t\u001b[31m.gitignore\u001b[m\n",
      "\t\u001b[31mc++.ipynb\u001b[m\n",
      "\t\u001b[31mgit.ipynb\u001b[m\n",
      "\t\u001b[31mjava.ipynb\u001b[m\n",
      "\t\u001b[31mjavascript.ipynb\u001b[m\n",
      "\t\u001b[31mlatex.ipynb\u001b[m\n",
      "\t\u001b[31mlatex.pdf\u001b[m\n",
      "\t\u001b[31mlatex.tex\u001b[m\n",
      "\t\u001b[31mpython.ipynb\u001b[m\n",
      "\t\u001b[31msql.ipynb\u001b[m\n",
      "\t\u001b[31mtypescript.ipynb\u001b[m\n",
      "\n",
      "nothing added to commit but untracked files present (use \"git add\" to track)\n"
     ]
    }
   ],
   "source": [
    "!git status"
   ]
  },
  {
   "cell_type": "code",
   "execution_count": 10,
   "id": "ae840a8a-0025-42ee-ab58-73deac4725fc",
   "metadata": {},
   "outputs": [],
   "source": [
    "!git config --global user.email \"you@example.com\"\n",
    "!git config --global user.name \"Your Name\""
   ]
  },
  {
   "cell_type": "code",
   "execution_count": 11,
   "id": "9e38ade3-7c40-41cd-9bd9-c255ed5c6325",
   "metadata": {},
   "outputs": [
    {
     "name": "stdout",
     "output_type": "stream",
     "text": [
      "[master (root-commit) b90ff43] test\n",
      " 11 files changed, 725 insertions(+)\n",
      " create mode 100644 .gitignore\n",
      " create mode 100644 c++.ipynb\n",
      " create mode 100644 git.ipynb\n",
      " create mode 100644 java.ipynb\n",
      " create mode 100644 javascript.ipynb\n",
      " create mode 100644 latex.ipynb\n",
      " create mode 100644 latex.pdf\n",
      " create mode 100644 latex.tex\n",
      " create mode 100644 python.ipynb\n",
      " create mode 100644 sql.ipynb\n",
      " create mode 100644 typescript.ipynb\n"
     ]
    }
   ],
   "source": [
    "!git add .\n",
    "!git commit -m \"test\""
   ]
  },
  {
   "cell_type": "code",
   "execution_count": 12,
   "id": "f3ce0bcb-3989-47bb-993e-aa658863fe28",
   "metadata": {},
   "outputs": [
    {
     "name": "stdout",
     "output_type": "stream",
     "text": [
      "On branch master\n",
      "Changes not staged for commit:\n",
      "  (use \"git add <file>...\" to update what will be committed)\n",
      "  (use \"git restore <file>...\" to discard changes in working directory)\n",
      "\t\u001b[31mmodified:   git.ipynb\u001b[m\n",
      "\n",
      "no changes added to commit (use \"git add\" and/or \"git commit -a\")\n"
     ]
    }
   ],
   "source": [
    "!git status"
   ]
  }
 ],
 "metadata": {
  "kernelspec": {
   "display_name": "Python 3 (ipykernel)",
   "language": "python",
   "name": "python3"
  },
  "language_info": {
   "codemirror_mode": {
    "name": "ipython",
    "version": 3
   },
   "file_extension": ".py",
   "mimetype": "text/x-python",
   "name": "python",
   "nbconvert_exporter": "python",
   "pygments_lexer": "ipython3",
   "version": "3.10.5"
  }
 },
 "nbformat": 4,
 "nbformat_minor": 5
}
